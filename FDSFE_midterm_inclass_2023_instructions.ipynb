{
  "nbformat": 4,
  "nbformat_minor": 0,
  "metadata": {
    "colab": {
      "provenance": [],
      "authorship_tag": "ABX9TyPHZp8fQ6OAUDF73LCGgfx1",
      "include_colab_link": true
    },
    "kernelspec": {
      "name": "python3",
      "display_name": "Python 3"
    },
    "language_info": {
      "name": "python"
    }
  },
  "cells": [
    {
      "cell_type": "markdown",
      "metadata": {
        "id": "view-in-github",
        "colab_type": "text"
      },
      "source": [
        "<a href=\"https://colab.research.google.com/github/fedhere/FDSFE_midterm_2023/blob/main/FDSFE_midterm_inclass_2023_instructions.ipynb\" target=\"_parent\"><img src=\"https://colab.research.google.com/assets/colab-badge.svg\" alt=\"Open In Colab\"/></a>"
      ]
    },
    {
      "cell_type": "markdown",
      "source": [
        "This exercise explores the pop distribution of population growth  over time by continent.\n",
        "\n",
        "Tasks:\n",
        "\n",
        "\n",
        "10 points for clean and neat notebook that executes. E.g. when you print decimal digits limit the number of decimal points when possible, do not print numbers without also printing a string that explains what they are etc.\n",
        "\n",
        "\n",
        "1. **data ingestion:** read in the data **20 points** get the data from the repository https://github.com/fedhereFDSFE_midterm2023\n",
        "SEE HINT 6 **IF YOU HAVE PROBLEMS WITH THIS SKIP THIS TASK AND READ THE DATA FROM THIS URL https://bit.ly/48RMlmv**\n",
        "\n",
        "2. **data preparation:** are there missing values? if so you will have to take care of them. You can fill them or drop the column or the row. **20 points** SEE HINT 7 **IF YOU HAVE PROBLEMS WITH THIS SKIP THIS TASK AND READ THE DATA FROM THIS URL https://bit.ly/3rtrOnr**\n",
        "\n",
        "3. **data exploration:** describe the relevant statistical properties of the data, calculate the correlation between the population changes by continent, and dont forget to make visualizations that help you understand the data properties (at least 1 plot) **30 points**\n",
        "\n",
        "4. **data visualization:** make a line plot of population size vs time  for each continent, then normalize the data and make a visualization of the normalized continent population trends **15 points**\n",
        "\n",
        "5. **data analysis 1:** continent has the smallest population in 1970? what is the population size for this continent now (in 2015)? **5 points**\n",
        "\n",
        "6. **data analysis 2:** choose one task **10 points**:\n",
        "\n",
        "  *a.* choose two continents (at least) and test the hypothesis that the population size trends are the same. That is, treating the continent's population as a sample from the world population over time, test if the two ontinents' population distribution comes from the same parent population (hint: _the KS test tests exactly this hypothesis!_). Write in full English the interpretation of the KS test reaults : \"We can/cannot reject the null hypothesis that.....\" SEE HINTS 2, 4,\n",
        "\n",
        "  *b.* fit a line to at least two continents. Based on the result of your fit, which continent has the fastest population growth? SEE HINT 5\n",
        "\n",
        "critical hints:\n",
        "1. all figures need axis labels and captions to be counted!! no caption no points. _Captions shoudl describe what is shown and make comments on notable features_\n",
        "2. remember the 6 steps of NHRT (and remember to do step 3 at the right time!!) if you chose task 6.a\n",
        "3. when you read the data the continents will be on the rows, the years on the columns. To calculate and show correlations _between continents_ you may need to turn the dataframe around, or transpose it. You can do that with the `.T` method: `pops.T`\n",
        "4. to make the plot in step 4 and to test if the population grows is the same you need to _normalize the data_ before you run the KS test: that is, subtract the mean from each continent and divide by its standard deviation. You can use the method scale https://scikit-learn.org/stable/modules/generated/sklearn.preprocessing.scale.html or you can simply do it by hand\n",
        "`pops_normalized = ((pops.T -  pops.T.mean(axis=0)) / pops.std(axis=1).T).T\n",
        "`\n",
        "5. hint: the slope can be extracted from a sklearn LinearRegression model as model.coef_ and from a statsmodels ols or OLS models the slope and intercept can be extracted as model.params\n",
        "\n",
        "\n",
        "\n",
        "additional hints:\n",
        "6. it is convenient to have the countries as the index of the dataframe\n",
        "7. there are multiple ways to treat missing data. e.g. fill with the mean or median, fill with the previous value (fill forward), fill with the later value (fill backward), and you can also drop the column or the tow. The way that is appropriate for some rows/columns may not be appripriate for the other\n",
        "\n",
        "Useful notebooks in https://github.com/fedhere/FDSFE_FBianco:\n",
        "- movie exploratory\n",
        "- walking speed linear regression\n",
        "- look in the homework folders where solution notebooks have been posted\n",
        "- look in the CodeExamples where we have the notebooks we worked on in class"
      ],
      "metadata": {
        "id": "mIEd2opOWPqr"
      }
    },
    {
      "cell_type": "code",
      "execution_count": 1,
      "metadata": {
        "id": "hkw_Wh26lKEg"
      },
      "outputs": [],
      "source": [
        "#put your imports here\n",
        "..."
      ]
    },
    {
      "cell_type": "markdown",
      "source": [
        "#data ingestion:\n",
        "read in the data\n",
        "\n",
        "**20 points**\n",
        "\n",
        "at the end of the task your dataframe shoudl look something like this (its ok if have a separate index, not the continents as index tho)\n",
        "\n",
        "\n",
        "USE SHORTCUT IF YOU ARE STUCK! SEE INSTRUCTIONS ABOVE"
      ],
      "metadata": {
        "id": "73B2pnkeiM6M"
      }
    },
    {
      "cell_type": "code",
      "source": [
        "pops = ..."
      ],
      "metadata": {
        "id": "qmwT-Qq8mCgM"
      },
      "execution_count": 2,
      "outputs": []
    },
    {
      "cell_type": "code",
      "source": [
        "pops"
      ],
      "metadata": {
        "colab": {
          "base_uri": "https://localhost:8080/",
          "height": 269
        },
        "id": "GINxdzXNSOY-",
        "outputId": "3ceacafb-db89-4b61-d155-2cf369605972"
      },
      "execution_count": 3,
      "outputs": [
        {
          "output_type": "execute_result",
          "data": {
            "text/plain": [
              "                             1950       1960     1970     1980       1990  \\\n",
              "Region                                                                      \n",
              "Africa                   228670.0   285142.0   366459   480012   634567.0   \n",
              "Asia                    1404062.0  1700463.0  2137828  2642489  3221342.0   \n",
              "Europe                   549375.0   605925.0   657350   694207        NaN   \n",
              "LatinAmerica+Caribbean   168918.0   221051.0   288077   364284   445919.0   \n",
              "NorthernAmerica          172603.0   204807.0   231145   254414   280345.0   \n",
              "Oceania                       NaN        NaN    19718    23005    27071.0   \n",
              "\n",
              "                           1995     2000     2005     2010     2015  \n",
              "Region                                                               \n",
              "Africa                   722922   817566   924758  1049446  1194370  \n",
              "Asia                    3489306  3730371  3964343  4194425  4419898  \n",
              "Europe                   728085   727201   730290   737164   740814  \n",
              "LatinAmerica+Caribbean   486863   525795   561656   597562   632381  \n",
              "NorthernAmerica          295114   312845   327546   342937   356004  \n",
              "Oceania                   29185    31229    33568    36636    39543  "
            ],
            "text/html": [
              "\n",
              "  <div id=\"df-83a0095c-ac55-4fce-b79d-c70ba8073434\" class=\"colab-df-container\">\n",
              "    <div>\n",
              "<style scoped>\n",
              "    .dataframe tbody tr th:only-of-type {\n",
              "        vertical-align: middle;\n",
              "    }\n",
              "\n",
              "    .dataframe tbody tr th {\n",
              "        vertical-align: top;\n",
              "    }\n",
              "\n",
              "    .dataframe thead th {\n",
              "        text-align: right;\n",
              "    }\n",
              "</style>\n",
              "<table border=\"1\" class=\"dataframe\">\n",
              "  <thead>\n",
              "    <tr style=\"text-align: right;\">\n",
              "      <th></th>\n",
              "      <th>1950</th>\n",
              "      <th>1960</th>\n",
              "      <th>1970</th>\n",
              "      <th>1980</th>\n",
              "      <th>1990</th>\n",
              "      <th>1995</th>\n",
              "      <th>2000</th>\n",
              "      <th>2005</th>\n",
              "      <th>2010</th>\n",
              "      <th>2015</th>\n",
              "    </tr>\n",
              "    <tr>\n",
              "      <th>Region</th>\n",
              "      <th></th>\n",
              "      <th></th>\n",
              "      <th></th>\n",
              "      <th></th>\n",
              "      <th></th>\n",
              "      <th></th>\n",
              "      <th></th>\n",
              "      <th></th>\n",
              "      <th></th>\n",
              "      <th></th>\n",
              "    </tr>\n",
              "  </thead>\n",
              "  <tbody>\n",
              "    <tr>\n",
              "      <th>Africa</th>\n",
              "      <td>228670.0</td>\n",
              "      <td>285142.0</td>\n",
              "      <td>366459</td>\n",
              "      <td>480012</td>\n",
              "      <td>634567.0</td>\n",
              "      <td>722922</td>\n",
              "      <td>817566</td>\n",
              "      <td>924758</td>\n",
              "      <td>1049446</td>\n",
              "      <td>1194370</td>\n",
              "    </tr>\n",
              "    <tr>\n",
              "      <th>Asia</th>\n",
              "      <td>1404062.0</td>\n",
              "      <td>1700463.0</td>\n",
              "      <td>2137828</td>\n",
              "      <td>2642489</td>\n",
              "      <td>3221342.0</td>\n",
              "      <td>3489306</td>\n",
              "      <td>3730371</td>\n",
              "      <td>3964343</td>\n",
              "      <td>4194425</td>\n",
              "      <td>4419898</td>\n",
              "    </tr>\n",
              "    <tr>\n",
              "      <th>Europe</th>\n",
              "      <td>549375.0</td>\n",
              "      <td>605925.0</td>\n",
              "      <td>657350</td>\n",
              "      <td>694207</td>\n",
              "      <td>NaN</td>\n",
              "      <td>728085</td>\n",
              "      <td>727201</td>\n",
              "      <td>730290</td>\n",
              "      <td>737164</td>\n",
              "      <td>740814</td>\n",
              "    </tr>\n",
              "    <tr>\n",
              "      <th>LatinAmerica+Caribbean</th>\n",
              "      <td>168918.0</td>\n",
              "      <td>221051.0</td>\n",
              "      <td>288077</td>\n",
              "      <td>364284</td>\n",
              "      <td>445919.0</td>\n",
              "      <td>486863</td>\n",
              "      <td>525795</td>\n",
              "      <td>561656</td>\n",
              "      <td>597562</td>\n",
              "      <td>632381</td>\n",
              "    </tr>\n",
              "    <tr>\n",
              "      <th>NorthernAmerica</th>\n",
              "      <td>172603.0</td>\n",
              "      <td>204807.0</td>\n",
              "      <td>231145</td>\n",
              "      <td>254414</td>\n",
              "      <td>280345.0</td>\n",
              "      <td>295114</td>\n",
              "      <td>312845</td>\n",
              "      <td>327546</td>\n",
              "      <td>342937</td>\n",
              "      <td>356004</td>\n",
              "    </tr>\n",
              "    <tr>\n",
              "      <th>Oceania</th>\n",
              "      <td>NaN</td>\n",
              "      <td>NaN</td>\n",
              "      <td>19718</td>\n",
              "      <td>23005</td>\n",
              "      <td>27071.0</td>\n",
              "      <td>29185</td>\n",
              "      <td>31229</td>\n",
              "      <td>33568</td>\n",
              "      <td>36636</td>\n",
              "      <td>39543</td>\n",
              "    </tr>\n",
              "  </tbody>\n",
              "</table>\n",
              "</div>\n",
              "    <div class=\"colab-df-buttons\">\n",
              "\n",
              "  <div class=\"colab-df-container\">\n",
              "    <button class=\"colab-df-convert\" onclick=\"convertToInteractive('df-83a0095c-ac55-4fce-b79d-c70ba8073434')\"\n",
              "            title=\"Convert this dataframe to an interactive table.\"\n",
              "            style=\"display:none;\">\n",
              "\n",
              "  <svg xmlns=\"http://www.w3.org/2000/svg\" height=\"24px\" viewBox=\"0 -960 960 960\">\n",
              "    <path d=\"M120-120v-720h720v720H120Zm60-500h600v-160H180v160Zm220 220h160v-160H400v160Zm0 220h160v-160H400v160ZM180-400h160v-160H180v160Zm440 0h160v-160H620v160ZM180-180h160v-160H180v160Zm440 0h160v-160H620v160Z\"/>\n",
              "  </svg>\n",
              "    </button>\n",
              "\n",
              "  <style>\n",
              "    .colab-df-container {\n",
              "      display:flex;\n",
              "      gap: 12px;\n",
              "    }\n",
              "\n",
              "    .colab-df-convert {\n",
              "      background-color: #E8F0FE;\n",
              "      border: none;\n",
              "      border-radius: 50%;\n",
              "      cursor: pointer;\n",
              "      display: none;\n",
              "      fill: #1967D2;\n",
              "      height: 32px;\n",
              "      padding: 0 0 0 0;\n",
              "      width: 32px;\n",
              "    }\n",
              "\n",
              "    .colab-df-convert:hover {\n",
              "      background-color: #E2EBFA;\n",
              "      box-shadow: 0px 1px 2px rgba(60, 64, 67, 0.3), 0px 1px 3px 1px rgba(60, 64, 67, 0.15);\n",
              "      fill: #174EA6;\n",
              "    }\n",
              "\n",
              "    .colab-df-buttons div {\n",
              "      margin-bottom: 4px;\n",
              "    }\n",
              "\n",
              "    [theme=dark] .colab-df-convert {\n",
              "      background-color: #3B4455;\n",
              "      fill: #D2E3FC;\n",
              "    }\n",
              "\n",
              "    [theme=dark] .colab-df-convert:hover {\n",
              "      background-color: #434B5C;\n",
              "      box-shadow: 0px 1px 3px 1px rgba(0, 0, 0, 0.15);\n",
              "      filter: drop-shadow(0px 1px 2px rgba(0, 0, 0, 0.3));\n",
              "      fill: #FFFFFF;\n",
              "    }\n",
              "  </style>\n",
              "\n",
              "    <script>\n",
              "      const buttonEl =\n",
              "        document.querySelector('#df-83a0095c-ac55-4fce-b79d-c70ba8073434 button.colab-df-convert');\n",
              "      buttonEl.style.display =\n",
              "        google.colab.kernel.accessAllowed ? 'block' : 'none';\n",
              "\n",
              "      async function convertToInteractive(key) {\n",
              "        const element = document.querySelector('#df-83a0095c-ac55-4fce-b79d-c70ba8073434');\n",
              "        const dataTable =\n",
              "          await google.colab.kernel.invokeFunction('convertToInteractive',\n",
              "                                                    [key], {});\n",
              "        if (!dataTable) return;\n",
              "\n",
              "        const docLinkHtml = 'Like what you see? Visit the ' +\n",
              "          '<a target=\"_blank\" href=https://colab.research.google.com/notebooks/data_table.ipynb>data table notebook</a>'\n",
              "          + ' to learn more about interactive tables.';\n",
              "        element.innerHTML = '';\n",
              "        dataTable['output_type'] = 'display_data';\n",
              "        await google.colab.output.renderOutput(dataTable, element);\n",
              "        const docLink = document.createElement('div');\n",
              "        docLink.innerHTML = docLinkHtml;\n",
              "        element.appendChild(docLink);\n",
              "      }\n",
              "    </script>\n",
              "  </div>\n",
              "\n",
              "\n",
              "<div id=\"df-ca5586d3-aaba-4c17-bbc2-e0b362817b6c\">\n",
              "  <button class=\"colab-df-quickchart\" onclick=\"quickchart('df-ca5586d3-aaba-4c17-bbc2-e0b362817b6c')\"\n",
              "            title=\"Suggest charts.\"\n",
              "            style=\"display:none;\">\n",
              "\n",
              "<svg xmlns=\"http://www.w3.org/2000/svg\" height=\"24px\"viewBox=\"0 0 24 24\"\n",
              "     width=\"24px\">\n",
              "    <g>\n",
              "        <path d=\"M19 3H5c-1.1 0-2 .9-2 2v14c0 1.1.9 2 2 2h14c1.1 0 2-.9 2-2V5c0-1.1-.9-2-2-2zM9 17H7v-7h2v7zm4 0h-2V7h2v10zm4 0h-2v-4h2v4z\"/>\n",
              "    </g>\n",
              "</svg>\n",
              "  </button>\n",
              "\n",
              "<style>\n",
              "  .colab-df-quickchart {\n",
              "      --bg-color: #E8F0FE;\n",
              "      --fill-color: #1967D2;\n",
              "      --hover-bg-color: #E2EBFA;\n",
              "      --hover-fill-color: #174EA6;\n",
              "      --disabled-fill-color: #AAA;\n",
              "      --disabled-bg-color: #DDD;\n",
              "  }\n",
              "\n",
              "  [theme=dark] .colab-df-quickchart {\n",
              "      --bg-color: #3B4455;\n",
              "      --fill-color: #D2E3FC;\n",
              "      --hover-bg-color: #434B5C;\n",
              "      --hover-fill-color: #FFFFFF;\n",
              "      --disabled-bg-color: #3B4455;\n",
              "      --disabled-fill-color: #666;\n",
              "  }\n",
              "\n",
              "  .colab-df-quickchart {\n",
              "    background-color: var(--bg-color);\n",
              "    border: none;\n",
              "    border-radius: 50%;\n",
              "    cursor: pointer;\n",
              "    display: none;\n",
              "    fill: var(--fill-color);\n",
              "    height: 32px;\n",
              "    padding: 0;\n",
              "    width: 32px;\n",
              "  }\n",
              "\n",
              "  .colab-df-quickchart:hover {\n",
              "    background-color: var(--hover-bg-color);\n",
              "    box-shadow: 0 1px 2px rgba(60, 64, 67, 0.3), 0 1px 3px 1px rgba(60, 64, 67, 0.15);\n",
              "    fill: var(--button-hover-fill-color);\n",
              "  }\n",
              "\n",
              "  .colab-df-quickchart-complete:disabled,\n",
              "  .colab-df-quickchart-complete:disabled:hover {\n",
              "    background-color: var(--disabled-bg-color);\n",
              "    fill: var(--disabled-fill-color);\n",
              "    box-shadow: none;\n",
              "  }\n",
              "\n",
              "  .colab-df-spinner {\n",
              "    border: 2px solid var(--fill-color);\n",
              "    border-color: transparent;\n",
              "    border-bottom-color: var(--fill-color);\n",
              "    animation:\n",
              "      spin 1s steps(1) infinite;\n",
              "  }\n",
              "\n",
              "  @keyframes spin {\n",
              "    0% {\n",
              "      border-color: transparent;\n",
              "      border-bottom-color: var(--fill-color);\n",
              "      border-left-color: var(--fill-color);\n",
              "    }\n",
              "    20% {\n",
              "      border-color: transparent;\n",
              "      border-left-color: var(--fill-color);\n",
              "      border-top-color: var(--fill-color);\n",
              "    }\n",
              "    30% {\n",
              "      border-color: transparent;\n",
              "      border-left-color: var(--fill-color);\n",
              "      border-top-color: var(--fill-color);\n",
              "      border-right-color: var(--fill-color);\n",
              "    }\n",
              "    40% {\n",
              "      border-color: transparent;\n",
              "      border-right-color: var(--fill-color);\n",
              "      border-top-color: var(--fill-color);\n",
              "    }\n",
              "    60% {\n",
              "      border-color: transparent;\n",
              "      border-right-color: var(--fill-color);\n",
              "    }\n",
              "    80% {\n",
              "      border-color: transparent;\n",
              "      border-right-color: var(--fill-color);\n",
              "      border-bottom-color: var(--fill-color);\n",
              "    }\n",
              "    90% {\n",
              "      border-color: transparent;\n",
              "      border-bottom-color: var(--fill-color);\n",
              "    }\n",
              "  }\n",
              "</style>\n",
              "\n",
              "  <script>\n",
              "    async function quickchart(key) {\n",
              "      const quickchartButtonEl =\n",
              "        document.querySelector('#' + key + ' button');\n",
              "      quickchartButtonEl.disabled = true;  // To prevent multiple clicks.\n",
              "      quickchartButtonEl.classList.add('colab-df-spinner');\n",
              "      try {\n",
              "        const charts = await google.colab.kernel.invokeFunction(\n",
              "            'suggestCharts', [key], {});\n",
              "      } catch (error) {\n",
              "        console.error('Error during call to suggestCharts:', error);\n",
              "      }\n",
              "      quickchartButtonEl.classList.remove('colab-df-spinner');\n",
              "      quickchartButtonEl.classList.add('colab-df-quickchart-complete');\n",
              "    }\n",
              "    (() => {\n",
              "      let quickchartButtonEl =\n",
              "        document.querySelector('#df-ca5586d3-aaba-4c17-bbc2-e0b362817b6c button');\n",
              "      quickchartButtonEl.style.display =\n",
              "        google.colab.kernel.accessAllowed ? 'block' : 'none';\n",
              "    })();\n",
              "  </script>\n",
              "</div>\n",
              "    </div>\n",
              "  </div>\n"
            ]
          },
          "metadata": {},
          "execution_count": 3
        }
      ]
    },
    {
      "cell_type": "markdown",
      "source": [
        "# data preparation:\n",
        "are there missing values? if so you will have to take care of them. You can fill them or drop the column or the row.\n",
        "\n",
        "**20 points**\n",
        "\n",
        "at the end of this task you should print a dataframe, like the one above, and it should have no NaNs\n",
        "\n",
        "USE SHORTCUT IF YOU ARE STUCK! SEE INSTRUCTIONS ABOVE"
      ],
      "metadata": {
        "id": "iXVUc_hDigNy"
      }
    },
    {
      "cell_type": "code",
      "source": [
        "..."
      ],
      "metadata": {
        "id": "Kb1VYkR_x86h"
      },
      "execution_count": null,
      "outputs": []
    },
    {
      "cell_type": "markdown",
      "source": [
        "# data exploration:\n",
        "\n",
        "data exploration: describe the relevant statistical properties of the data, calculate the correlation between the population changes by continent, and dont forget to make visualizations that help you understand the data properties (at least 1 plot)\n",
        "\n",
        "**30 points**\n",
        "\n",
        "For calculating the correlation of the population trands between countries, see hint 3.: you may want to use pop.T for this.\n",
        "\n",
        "Make plots where appriopriate.\n",
        "**bold text**"
      ],
      "metadata": {
        "id": "1yZNIQrRip7q"
      }
    },
    {
      "cell_type": "code",
      "source": [
        "..."
      ],
      "metadata": {
        "id": "TvrKt30syARx"
      },
      "execution_count": null,
      "outputs": []
    },
    {
      "cell_type": "markdown",
      "source": [
        "# data visualization\n",
        "make a line plot of population size vs time  for each continent, then normalize the data and make a visualization of the normalized continent population trends\n",
        "\n",
        "**15 points**"
      ],
      "metadata": {
        "id": "2FlRrMuNk5Eq"
      }
    },
    {
      "cell_type": "code",
      "source": [
        "... #here make a plot of the original data, population vs time"
      ],
      "metadata": {
        "id": "2jdRk5YBUvSe",
        "colab": {
          "base_uri": "https://localhost:8080/",
          "height": 465
        },
        "outputId": "58cf1cb2-8112-412f-cb8f-329d0bfaaead"
      },
      "execution_count": 18,
      "outputs": [
        {
          "output_type": "display_data",
          "data": {
            "text/plain": [
              "<Figure size 640x480 with 1 Axes>"
            ],
            "image/png": "[encoded data removed]"
          },
          "metadata": {}
        }
      ]
    },
    {
      "cell_type": "code",
      "source": [
        "# for this task you will need a normalized version of the dataframe. Here is one way to do it\n",
        "pops_normalized = ((pops.T -  pops.T.mean(axis=0)) / pops.std(axis=1).T).T\n"
      ],
      "metadata": {
        "id": "aMDRQtwklKHI"
      },
      "execution_count": 19,
      "outputs": []
    },
    {
      "cell_type": "code",
      "source": [
        "... #here make a plot of the normalized data, population vs time"
      ],
      "metadata": {
        "id": "V_xCwL8xVRlf"
      },
      "execution_count": null,
      "outputs": []
    },
    {
      "cell_type": "markdown",
      "source": [
        "# data analysis 1:\n",
        "\n",
        "which continent has the smallest population in 1990? what is the population size for this continent now (in 2015)?\n",
        "\n",
        "**5 points**"
      ],
      "metadata": {
        "id": "gxQLWwhxlPIC"
      }
    },
    {
      "cell_type": "code",
      "source": [
        "..."
      ],
      "metadata": {
        "id": "i3Hwi0qFyacG"
      },
      "execution_count": null,
      "outputs": []
    },
    {
      "cell_type": "markdown",
      "source": [
        "# data analysis 2a :\n",
        "choose two continents (at least) and test the hypothesis that the population size trends are the same. That is, treating the continent's population as a sample from the world population over time, test if the two ontinents' population distribution comes from the same parent population _KS test tests exactly this hypothesis!_. Please look at hint 4! Write in full English the interpretation of the KS test reaults : \"We can/cannot reject the null hypothesis that.....\"\n",
        "\n",
        "**10 points**:\n",
        "\n",
        "  \n",
        "\n"
      ],
      "metadata": {
        "id": "_C2jjjgrnYhh"
      }
    },
    {
      "cell_type": "code",
      "source": [
        "..."
      ],
      "metadata": {
        "id": "RVvUOVKWyZog"
      },
      "execution_count": null,
      "outputs": []
    },
    {
      "cell_type": "markdown",
      "source": [
        "#data analysis 6*b.*\n",
        "\n",
        "fit a line to at least two continents. Based on the result of your fit, which continent has the fastest population growth?\n",
        "\n",
        "**10 points**"
      ],
      "metadata": {
        "id": "pE_CAwKAnr2a"
      }
    },
    {
      "cell_type": "code",
      "source": [
        "..."
      ],
      "metadata": {
        "id": "EKOWWRqppbkL"
      },
      "execution_count": 29,
      "outputs": []
    }
  ]
}