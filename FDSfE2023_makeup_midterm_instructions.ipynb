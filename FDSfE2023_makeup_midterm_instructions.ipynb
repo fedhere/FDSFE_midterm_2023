{
  "nbformat": 4,
  "nbformat_minor": 0,
  "metadata": {
    "colab": {
      "provenance": [],
      "include_colab_link": true
    },
    "kernelspec": {
      "name": "python3",
      "display_name": "Python 3"
    },
    "language_info": {
      "name": "python"
    }
  },
  "cells": [
    {
      "cell_type": "markdown",
      "metadata": {
        "id": "view-in-github",
        "colab_type": "text"
      },
      "source": [
        "<a href=\"https://colab.research.google.com/github/fedhere/FDSFE_midterm_2023/blob/main/FDSfE2023_makeup_midterm_instructions.ipynb\" target=\"_parent\"><img src=\"https://colab.research.google.com/assets/colab-badge.svg\" alt=\"Open In Colab\"/></a>"
      ]
    },
    {
      "cell_type": "markdown",
      "source": [
        "# READ THESE INSTRUCTIONS CAREFULLY AND IN FULL BEFORE YOU PROCEED TO WORK! THERE ARE HINTS AND LINKS TO PARTIAL SOLUTIONS\n",
        "\n",
        "# CONTEXT : Investigation of sea level rise\n",
        "\n",
        "Sea level rise, associated with global warming, is a threat to people living in costal areas and to world sustainability. Sea level rise is caused primarily by two factors related to global warming: the added water from melting ice sheets and glaciers, and the expansion of seawater as it warms. The [data you are given access to is from NASA](https://climate.nasa.gov/vital-signs/sea-level/), which tracks the change in global sea level since 1993, as observed by satellites.\n",
        "\n",
        "**Objective**: modeling sea level rise to enable predictions.\n",
        "\n",
        "## RULES\n",
        "\n",
        "Work on your own!\n",
        "\n",
        "You can consult your old notebooks, my notebooks, stackoverflow, books, tarot cards... pretty much anything you want! This is an open-everything exam and anything that does not involve live interaction with a classmate (or another person that is not an instructor) is allowed\n",
        "\n",
        "Use the #midterm slack channel to ask questions. Do not hesitate to ask for clarifications and do not stay stuck on any task too long! Give it an honest try and if you have questions ask in #midterm.\n",
        "\n",
        "You will receive points for each of the marked tasks and for the discussion of your findings.\n",
        "\n",
        "10 points for clean and neat notebook that executes. E.g. when you print decimal digits limit the number of decimal points when possible, do not print numbers without also printing a string that explains what they are etc.\n",
        "\n",
        "\n",
        "\n",
        "##Tasks:\n",
        "**Task 1: Data Acquisition (20 points)DO NOT STAY STUCK HERE! If you _cannot_ figure out how to do this, after an honest try,  you can [use this link for a better formatted dataset here . If you use this secondary link](https://raw.githubusercontent.com/fedhere/FDSfE_FBianco/main/test/searise.csv) instead. This is a properly formatted csv file. You will not receive full points for task 1, but if you have partial solutions in your notebook you may receive partial credits.\n",
        "\n",
        "\n",
        "**Task 2: Data Preparation (5 points)** are the exploratory data tasks: we ddeal with missing values if needed\n",
        "\n",
        "**Task 3: Data Exploration (30 points)** Ddescribe the relevant statistical properties of the data, calculate the correlation between the columns, and dont forget to make visualizations that help you understand the data properties (at least 1 plot)\n",
        "\n",
        "**Task 4: Data Visualization (20 points)** Data visualization tasks\n",
        "\n",
        "**Task 5: Data Analysis 1  (5 points)**\n",
        "\n",
        "**Task 6: Data Analysis 2  (10 points)**\n",
        "Choose 1 of 2 tasks:\n",
        "\n",
        "a) p-value analysis of two distributions\n",
        "\n",
        "b) modeling tasks: you can choose whichever method you want to fit a line model to the data. The notebook we worked on in the past 4 classes contains the way to use each method. The \"solution\" to that homework is in https://github.com/fedhere/FDSfE_FBianco/blob/main/classdemo/linear_regression_in_detail.ipynb\n",
        "\n",
        "critical hints:\n",
        "1. all figures need axis labels and captions to be counted!! no caption no points. _Captions shoudl describe what is shown and make comments on notable features_\n",
        "2. remember the 6 steps of NHRT (Null Hypothesis Rejection Testing, or \"p-value statistics\", slide deck https://slides.com/federicabianco/fdsfe_3 https://slides.com/d/JzdpUkI/live#/6/21 and remember to do step 3 at the right time!!) if you chose task\n",
        "3. clean presentation includes.\n",
        "- each output has limited number of decimal digits for floating point outpus,\n",
        "- embed code outputs into print statements and does not leave them hanging\n",
        "- make good thoughtful considerations about the results throughout\n",
        "- removes the instructions and provides the solution in their place - is named sensibly\n",
        "- uses good coding practices (encouraged but not grading on this last item)\n",
        "\n",
        "**Do not stay stuck on the first task (acquiring the data) for too long! If you cannot read in the data you can skip that task and lose points for it but be able to proceed to the other tasks! and you can go back to it later!!**"
      ],
      "metadata": {
        "id": "o1E29JkVOKfY"
      }
    },
    {
      "cell_type": "code",
      "source": [
        "import pandas as pd\n",
        "# add other imports here"
      ],
      "metadata": {
        "id": "SVOOEp9W8_bt"
      },
      "execution_count": null,
      "outputs": []
    },
    {
      "cell_type": "markdown",
      "source": [
        "# Data acquisition (25 points)"
      ],
      "metadata": {
        "id": "-srn67-HLJYs"
      }
    },
    {
      "cell_type": "markdown",
      "source": [
        "\n",
        "\n",
        "read in the data from the github repository for class\n",
        "https://github.com/fedhere/FDSfE_FBianco\n",
        "\n",
        "the data is in the folder \"data\" and it is called \"GMSL_TPJAOS_5.1_199209_202208.txt\"\n",
        "\n",
        "Use the pandas method ```read_csv()```. You will have to figure out how to:\n",
        "\n",
        "- skip the first 49 rows of the data\n",
        "- make sure the first row of numerical data is not read in as a header\n",
        "- pass the names to the variables. I provided the names in the cell above this one as a list called `column_names`\n",
        "- look at the delimiter keyword options on the help page of the method.\n",
        "\n",
        "**IF YOU CANNOT DO THIS TASK**: you can get a properly formatted dataset and use that. You will not get full points for this task but you may get points for partial solution if you made any way toward reading in the original link. This is a much better solution then getting stuck here and not being able to do any of the following tasks! so if its taking you a long time to do this task 1 go ahead and use [this link](https://raw.githubusercontent.com/fedhere/FDSfE_FBianco/main/test/searise.csv) (but remember you need to get the **raw** link from this webpage!!) you can go back to this and try to improve your answer later after you are all done with the rest of the tasks."
      ],
      "metadata": {
        "id": "Y1_uhaoLLMYb"
      }
    },
    {
      "cell_type": "code",
      "source": [
        "column_names = [\"altimeter type\", \"merged file cycle \", \"year\", \"number of observations\",\n",
        "       \"number of weighted observations\", \"GMSL variation no GIA (mm)\",\n",
        "       \"standard no GIA deviation of GMSL (mm)\", \"smoothed GMSL (mm)\",\n",
        "       \"GMSL variation (mm)\", \"standard deviation of GMSL (mm)\",\n",
        "       \"smoothed 60-day variation (mm)\",\n",
        "       \"smoothed (mm) annual and semi-annual signal removed\"]"
      ],
      "metadata": {
        "id": "Cx6XnGo02PDW"
      },
      "execution_count": null,
      "outputs": []
    },
    {
      "cell_type": "code",
      "source": [
        "#replace \"...\" with your code\n",
        "searise = ..."
      ],
      "metadata": {
        "id": "BDcVH0Fh2LPj"
      },
      "execution_count": null,
      "outputs": []
    },
    {
      "cell_type": "markdown",
      "source": [
        "#  Data  : 5 points"
      ],
      "metadata": {
        "id": "vJVCbaAdrC6V"
      }
    },
    {
      "cell_type": "markdown",
      "source": [
        "2. **data preparation:** are there missing values? if so you will have to take care of them. You can fill them or drop the column or the row. **10 points** SEE HINTS"
      ],
      "metadata": {
        "id": "CylIRKyUqsqa"
      }
    },
    {
      "cell_type": "markdown",
      "source": [
        "# Data Exploration : 30 points\n",
        "\n",
        "\n"
      ],
      "metadata": {
        "id": "CGdKsDqPD8cy"
      }
    },
    {
      "cell_type": "markdown",
      "source": [
        "\n",
        "\n",
        "3. **data exploration:** describe the relevant statistical properties of the data, calculate the correlation between the columns, and dont forget to make visualizations that help you understand the data properties (at least 1 plot) **30 points**\n"
      ],
      "metadata": {
        "id": "oqTTO8FoqhDz"
      }
    },
    {
      "cell_type": "code",
      "source": [
        "#replace \"...\" with your code (you may need more than one cell of code to answer this question)\n",
        "..."
      ],
      "metadata": {
        "id": "3Gli5lav8mv1"
      },
      "execution_count": null,
      "outputs": []
    },
    {
      "cell_type": "code",
      "source": [
        "#replace \"...\" with your code\n",
        "print(\"the time spanned by the data goes from ....."
      ],
      "metadata": {
        "id": "9x1EaKgmAkSB"
      },
      "execution_count": null,
      "outputs": []
    },
    {
      "cell_type": "markdown",
      "source": [
        "What columns are correlated above 75% (have a higher Pearson's correlation coefficient than 0.75) with `smoothed GMSL (mm)`\n",
        "\n",
        "1.   measure the correlation of all columns with each other (we did it with the movies dataset, videos, etc....) (5 points)\n",
        "2.   plot the correlation matrix (we did it in the same notebooks) (5 points)\n",
        "3.   list the column names for each column that has a higher correlation than 0.75 with `smoothed GMSL (mm)`  (5 points)\n",
        "\n",
        "*HINTS:*\n",
        "1. your plot should\n",
        "- have tick labels corrsponding to the name columns (you may want to look at the rotation=90 or rot=90 arguments in the xticks or xtick_labels and yticks or ytick_labels calls)\n",
        "- show a colorbar displaying the meaning of each color\n",
        "- use a divergent color map, e.g. \"Spectral\"\n",
        "- the limits of the colors should be the min and max possible values of Pearson's correlation: (-1, 1) (look at the `clim()` argument)\n",
        "- Figures without captions do not get points. Make sure you write a caption (as a text cell) for each plot describing what the plot shows and anything that you think is noticeable about it\n",
        "\n",
        "2. you can do this by selecting the row corresponding to the `smoothed GMSL` for example using the `.loc[]` method of the dataframe. If you call that dataframe row (for example) `smoothedGMSL`, then you can select the column by a condition `df.smoothedGMSL > 0.75`\n",
        "\n",
        "\n"
      ],
      "metadata": {
        "id": "qBJNJIwDCfMf"
      }
    },
    {
      "cell_type": "code",
      "source": [
        "#replace \"...\" with your code to measure the correlation of the data\n",
        "..."
      ],
      "metadata": {
        "colab": {
          "base_uri": "https://localhost:8080/",
          "height": 852
        },
        "id": "OGE-mErs87S0",
        "outputId": "381c49cc-7563-4b7e-c45b-0cae6d52a0d4"
      },
      "execution_count": null,
      "outputs": [
        {
          "output_type": "execute_result",
          "data": {
            "text/plain": [
              "                                                    altimeter type  \\\n",
              "altimeter type                                            1.000000   \n",
              "merged file cycle                                        -0.208838   \n",
              "year                                                     -0.208838   \n",
              "number of observations                                   -0.255563   \n",
              "number of weighted observations                          -0.241595   \n",
              "GMSL variation no GIA (mm)                               -0.205996   \n",
              "standard no GIA deviation of GMSL (mm)                    0.209119   \n",
              "smoothed GMSL (mm)                                       -0.196032   \n",
              "GMSL variation (mm)                                      -0.206371   \n",
              "standard deviation of GMSL (mm)                           0.206120   \n",
              "smoothed 60-day variation (mm)                           -0.197177   \n",
              "smoothed (mm) annual and semi-annual signal rem...       -0.198688   \n",
              "\n",
              "                                                    merged file cycle   \\\n",
              "altimeter type                                               -0.208838   \n",
              "merged file cycle                                             1.000000   \n",
              "year                                                          1.000000   \n",
              "number of observations                                        0.115811   \n",
              "number of weighted observations                               0.124768   \n",
              "GMSL variation no GIA (mm)                                    0.979012   \n",
              "standard no GIA deviation of GMSL (mm)                       -0.059567   \n",
              "smoothed GMSL (mm)                                            0.982479   \n",
              "GMSL variation (mm)                                           0.981844   \n",
              "standard deviation of GMSL (mm)                              -0.049164   \n",
              "smoothed 60-day variation (mm)                                0.984856   \n",
              "smoothed (mm) annual and semi-annual signal rem...            0.990111   \n",
              "\n",
              "                                                        year  \\\n",
              "altimeter type                                     -0.208838   \n",
              "merged file cycle                                   1.000000   \n",
              "year                                                1.000000   \n",
              "number of observations                              0.115808   \n",
              "number of weighted observations                     0.124765   \n",
              "GMSL variation no GIA (mm)                          0.979011   \n",
              "standard no GIA deviation of GMSL (mm)             -0.059559   \n",
              "smoothed GMSL (mm)                                  0.982479   \n",
              "GMSL variation (mm)                                 0.981843   \n",
              "standard deviation of GMSL (mm)                    -0.049156   \n",
              "smoothed 60-day variation (mm)                      0.984855   \n",
              "smoothed (mm) annual and semi-annual signal rem...  0.990110   \n",
              "\n",
              "                                                    number of observations  \\\n",
              "altimeter type                                                   -0.255563   \n",
              "merged file cycle                                                 0.115811   \n",
              "year                                                              0.115808   \n",
              "number of observations                                            1.000000   \n",
              "number of weighted observations                                   0.990815   \n",
              "GMSL variation no GIA (mm)                                        0.101228   \n",
              "standard no GIA deviation of GMSL (mm)                           -0.079837   \n",
              "smoothed GMSL (mm)                                                0.092191   \n",
              "GMSL variation (mm)                                               0.102055   \n",
              "standard deviation of GMSL (mm)                                  -0.081481   \n",
              "smoothed 60-day variation (mm)                                    0.093925   \n",
              "smoothed (mm) annual and semi-annual signal rem...                0.110930   \n",
              "\n",
              "                                                    number of weighted observations  \\\n",
              "altimeter type                                                            -0.241595   \n",
              "merged file cycle                                                          0.124768   \n",
              "year                                                                       0.124765   \n",
              "number of observations                                                     0.990815   \n",
              "number of weighted observations                                            1.000000   \n",
              "GMSL variation no GIA (mm)                                                 0.120233   \n",
              "standard no GIA deviation of GMSL (mm)                                    -0.067049   \n",
              "smoothed GMSL (mm)                                                         0.110352   \n",
              "GMSL variation (mm)                                                        0.120398   \n",
              "standard deviation of GMSL (mm)                                           -0.065422   \n",
              "smoothed 60-day variation (mm)                                             0.111476   \n",
              "smoothed (mm) annual and semi-annual signal rem...                         0.118179   \n",
              "\n",
              "                                                    GMSL variation no GIA (mm)  \\\n",
              "altimeter type                                                       -0.205996   \n",
              "merged file cycle                                                     0.979012   \n",
              "year                                                                  0.979011   \n",
              "number of observations                                                0.101228   \n",
              "number of weighted observations                                       0.120233   \n",
              "GMSL variation no GIA (mm)                                            1.000000   \n",
              "standard no GIA deviation of GMSL (mm)                                0.014801   \n",
              "smoothed GMSL (mm)                                                    0.997839   \n",
              "GMSL variation (mm)                                                   0.999896   \n",
              "standard deviation of GMSL (mm)                                       0.028592   \n",
              "smoothed 60-day variation (mm)                                        0.997658   \n",
              "smoothed (mm) annual and semi-annual signal rem...                    0.990525   \n",
              "\n",
              "                                                    standard no GIA deviation of GMSL (mm)  \\\n",
              "altimeter type                                                                    0.209119   \n",
              "merged file cycle                                                                -0.059567   \n",
              "year                                                                             -0.059559   \n",
              "number of observations                                                           -0.079837   \n",
              "number of weighted observations                                                  -0.067049   \n",
              "GMSL variation no GIA (mm)                                                        0.014801   \n",
              "standard no GIA deviation of GMSL (mm)                                            1.000000   \n",
              "smoothed GMSL (mm)                                                                0.010004   \n",
              "GMSL variation (mm)                                                               0.009547   \n",
              "standard deviation of GMSL (mm)                                                   0.999264   \n",
              "smoothed 60-day variation (mm)                                                    0.005065   \n",
              "smoothed (mm) annual and semi-annual signal rem...                               -0.020512   \n",
              "\n",
              "                                                    smoothed GMSL (mm)  \\\n",
              "altimeter type                                               -0.196032   \n",
              "merged file cycle                                             0.982479   \n",
              "year                                                          0.982479   \n",
              "number of observations                                        0.092191   \n",
              "number of weighted observations                               0.110352   \n",
              "GMSL variation no GIA (mm)                                    0.997839   \n",
              "standard no GIA deviation of GMSL (mm)                        0.010004   \n",
              "smoothed GMSL (mm)                                            1.000000   \n",
              "GMSL variation (mm)                                           0.998140   \n",
              "standard deviation of GMSL (mm)                               0.023752   \n",
              "smoothed 60-day variation (mm)                                0.999913   \n",
              "smoothed (mm) annual and semi-annual signal rem...            0.993694   \n",
              "\n",
              "                                                    GMSL variation (mm)  \\\n",
              "altimeter type                                                -0.206371   \n",
              "merged file cycle                                              0.981844   \n",
              "year                                                           0.981843   \n",
              "number of observations                                         0.102055   \n",
              "number of weighted observations                                0.120398   \n",
              "GMSL variation no GIA (mm)                                     0.999896   \n",
              "standard no GIA deviation of GMSL (mm)                         0.009547   \n",
              "smoothed GMSL (mm)                                             0.998140   \n",
              "GMSL variation (mm)                                            1.000000   \n",
              "standard deviation of GMSL (mm)                                0.023121   \n",
              "smoothed 60-day variation (mm)                                 0.998139   \n",
              "smoothed (mm) annual and semi-annual signal rem...             0.991863   \n",
              "\n",
              "                                                    standard deviation of GMSL (mm)  \\\n",
              "altimeter type                                                             0.206120   \n",
              "merged file cycle                                                         -0.049164   \n",
              "year                                                                      -0.049156   \n",
              "number of observations                                                    -0.081481   \n",
              "number of weighted observations                                           -0.065422   \n",
              "GMSL variation no GIA (mm)                                                 0.028592   \n",
              "standard no GIA deviation of GMSL (mm)                                     0.999264   \n",
              "smoothed GMSL (mm)                                                         0.023752   \n",
              "GMSL variation (mm)                                                        0.023121   \n",
              "standard deviation of GMSL (mm)                                            1.000000   \n",
              "smoothed 60-day variation (mm)                                             0.018595   \n",
              "smoothed (mm) annual and semi-annual signal rem...                        -0.009340   \n",
              "\n",
              "                                                    smoothed 60-day variation (mm)  \\\n",
              "altimeter type                                                           -0.197177   \n",
              "merged file cycle                                                         0.984856   \n",
              "year                                                                      0.984855   \n",
              "number of observations                                                    0.093925   \n",
              "number of weighted observations                                           0.111476   \n",
              "GMSL variation no GIA (mm)                                                0.997658   \n",
              "standard no GIA deviation of GMSL (mm)                                    0.005065   \n",
              "smoothed GMSL (mm)                                                        0.999913   \n",
              "GMSL variation (mm)                                                       0.998139   \n",
              "standard deviation of GMSL (mm)                                           0.018595   \n",
              "smoothed 60-day variation (mm)                                            1.000000   \n",
              "smoothed (mm) annual and semi-annual signal rem...                        0.994584   \n",
              "\n",
              "                                                    smoothed (mm) annual and semi-annual signal removed  \n",
              "altimeter type                                                                              -0.198688    \n",
              "merged file cycle                                                                            0.990111    \n",
              "year                                                                                         0.990110    \n",
              "number of observations                                                                       0.110930    \n",
              "number of weighted observations                                                              0.118179    \n",
              "GMSL variation no GIA (mm)                                                                   0.990525    \n",
              "standard no GIA deviation of GMSL (mm)                                                      -0.020512    \n",
              "smoothed GMSL (mm)                                                                           0.993694    \n",
              "GMSL variation (mm)                                                                          0.991863    \n",
              "standard deviation of GMSL (mm)                                                             -0.009340    \n",
              "smoothed 60-day variation (mm)                                                               0.994584    \n",
              "smoothed (mm) annual and semi-annual signal rem...                                           1.000000    "
            ],
            "text/html": [
              "\n",
              "  <div id=\"df-15903254-72ed-4155-abd1-f31388f59a95\">\n",
              "    <div class=\"colab-df-container\">\n",
              "      <div>\n",
              "<style scoped>\n",
              "    .dataframe tbody tr th:only-of-type {\n",
              "        vertical-align: middle;\n",
              "    }\n",
              "\n",
              "    .dataframe tbody tr th {\n",
              "        vertical-align: top;\n",
              "    }\n",
              "\n",
              "    .dataframe thead th {\n",
              "        text-align: right;\n",
              "    }\n",
              "</style>\n",
              "<table border=\"1\" class=\"dataframe\">\n",
              "  <thead>\n",
              "    <tr style=\"text-align: right;\">\n",
              "      <th></th>\n",
              "      <th>altimeter type</th>\n",
              "      <th>merged file cycle</th>\n",
              "      <th>year</th>\n",
              "      <th>number of observations</th>\n",
              "      <th>number of weighted observations</th>\n",
              "      <th>GMSL variation no GIA (mm)</th>\n",
              "      <th>standard no GIA deviation of GMSL (mm)</th>\n",
              "      <th>smoothed GMSL (mm)</th>\n",
              "      <th>GMSL variation (mm)</th>\n",
              "      <th>standard deviation of GMSL (mm)</th>\n",
              "      <th>smoothed 60-day variation (mm)</th>\n",
              "      <th>smoothed (mm) annual and semi-annual signal removed</th>\n",
              "    </tr>\n",
              "  </thead>\n",
              "  <tbody>\n",
              "    <tr>\n",
              "      <th>altimeter type</th>\n",
              "      <td>1.000000</td>\n",
              "      <td>-0.208838</td>\n",
              "      <td>-0.208838</td>\n",
              "      <td>-0.255563</td>\n",
              "      <td>-0.241595</td>\n",
              "      <td>-0.205996</td>\n",
              "      <td>0.209119</td>\n",
              "      <td>-0.196032</td>\n",
              "      <td>-0.206371</td>\n",
              "      <td>0.206120</td>\n",
              "      <td>-0.197177</td>\n",
              "      <td>-0.198688</td>\n",
              "    </tr>\n",
              "    <tr>\n",
              "      <th>merged file cycle</th>\n",
              "      <td>-0.208838</td>\n",
              "      <td>1.000000</td>\n",
              "      <td>1.000000</td>\n",
              "      <td>0.115811</td>\n",
              "      <td>0.124768</td>\n",
              "      <td>0.979012</td>\n",
              "      <td>-0.059567</td>\n",
              "      <td>0.982479</td>\n",
              "      <td>0.981844</td>\n",
              "      <td>-0.049164</td>\n",
              "      <td>0.984856</td>\n",
              "      <td>0.990111</td>\n",
              "    </tr>\n",
              "    <tr>\n",
              "      <th>year</th>\n",
              "      <td>-0.208838</td>\n",
              "      <td>1.000000</td>\n",
              "      <td>1.000000</td>\n",
              "      <td>0.115808</td>\n",
              "      <td>0.124765</td>\n",
              "      <td>0.979011</td>\n",
              "      <td>-0.059559</td>\n",
              "      <td>0.982479</td>\n",
              "      <td>0.981843</td>\n",
              "      <td>-0.049156</td>\n",
              "      <td>0.984855</td>\n",
              "      <td>0.990110</td>\n",
              "    </tr>\n",
              "    <tr>\n",
              "      <th>number of observations</th>\n",
              "      <td>-0.255563</td>\n",
              "      <td>0.115811</td>\n",
              "      <td>0.115808</td>\n",
              "      <td>1.000000</td>\n",
              "      <td>0.990815</td>\n",
              "      <td>0.101228</td>\n",
              "      <td>-0.079837</td>\n",
              "      <td>0.092191</td>\n",
              "      <td>0.102055</td>\n",
              "      <td>-0.081481</td>\n",
              "      <td>0.093925</td>\n",
              "      <td>0.110930</td>\n",
              "    </tr>\n",
              "    <tr>\n",
              "      <th>number of weighted observations</th>\n",
              "      <td>-0.241595</td>\n",
              "      <td>0.124768</td>\n",
              "      <td>0.124765</td>\n",
              "      <td>0.990815</td>\n",
              "      <td>1.000000</td>\n",
              "      <td>0.120233</td>\n",
              "      <td>-0.067049</td>\n",
              "      <td>0.110352</td>\n",
              "      <td>0.120398</td>\n",
              "      <td>-0.065422</td>\n",
              "      <td>0.111476</td>\n",
              "      <td>0.118179</td>\n",
              "    </tr>\n",
              "    <tr>\n",
              "      <th>GMSL variation no GIA (mm)</th>\n",
              "      <td>-0.205996</td>\n",
              "      <td>0.979012</td>\n",
              "      <td>0.979011</td>\n",
              "      <td>0.101228</td>\n",
              "      <td>0.120233</td>\n",
              "      <td>1.000000</td>\n",
              "      <td>0.014801</td>\n",
              "      <td>0.997839</td>\n",
              "      <td>0.999896</td>\n",
              "      <td>0.028592</td>\n",
              "      <td>0.997658</td>\n",
              "      <td>0.990525</td>\n",
              "    </tr>\n",
              "    <tr>\n",
              "      <th>standard no GIA deviation of GMSL (mm)</th>\n",
              "      <td>0.209119</td>\n",
              "      <td>-0.059567</td>\n",
              "      <td>-0.059559</td>\n",
              "      <td>-0.079837</td>\n",
              "      <td>-0.067049</td>\n",
              "      <td>0.014801</td>\n",
              "      <td>1.000000</td>\n",
              "      <td>0.010004</td>\n",
              "      <td>0.009547</td>\n",
              "      <td>0.999264</td>\n",
              "      <td>0.005065</td>\n",
              "      <td>-0.020512</td>\n",
              "    </tr>\n",
              "    <tr>\n",
              "      <th>smoothed GMSL (mm)</th>\n",
              "      <td>-0.196032</td>\n",
              "      <td>0.982479</td>\n",
              "      <td>0.982479</td>\n",
              "      <td>0.092191</td>\n",
              "      <td>0.110352</td>\n",
              "      <td>0.997839</td>\n",
              "      <td>0.010004</td>\n",
              "      <td>1.000000</td>\n",
              "      <td>0.998140</td>\n",
              "      <td>0.023752</td>\n",
              "      <td>0.999913</td>\n",
              "      <td>0.993694</td>\n",
              "    </tr>\n",
              "    <tr>\n",
              "      <th>GMSL variation (mm)</th>\n",
              "      <td>-0.206371</td>\n",
              "      <td>0.981844</td>\n",
              "      <td>0.981843</td>\n",
              "      <td>0.102055</td>\n",
              "      <td>0.120398</td>\n",
              "      <td>0.999896</td>\n",
              "      <td>0.009547</td>\n",
              "      <td>0.998140</td>\n",
              "      <td>1.000000</td>\n",
              "      <td>0.023121</td>\n",
              "      <td>0.998139</td>\n",
              "      <td>0.991863</td>\n",
              "    </tr>\n",
              "    <tr>\n",
              "      <th>standard deviation of GMSL (mm)</th>\n",
              "      <td>0.206120</td>\n",
              "      <td>-0.049164</td>\n",
              "      <td>-0.049156</td>\n",
              "      <td>-0.081481</td>\n",
              "      <td>-0.065422</td>\n",
              "      <td>0.028592</td>\n",
              "      <td>0.999264</td>\n",
              "      <td>0.023752</td>\n",
              "      <td>0.023121</td>\n",
              "      <td>1.000000</td>\n",
              "      <td>0.018595</td>\n",
              "      <td>-0.009340</td>\n",
              "    </tr>\n",
              "    <tr>\n",
              "      <th>smoothed 60-day variation (mm)</th>\n",
              "      <td>-0.197177</td>\n",
              "      <td>0.984856</td>\n",
              "      <td>0.984855</td>\n",
              "      <td>0.093925</td>\n",
              "      <td>0.111476</td>\n",
              "      <td>0.997658</td>\n",
              "      <td>0.005065</td>\n",
              "      <td>0.999913</td>\n",
              "      <td>0.998139</td>\n",
              "      <td>0.018595</td>\n",
              "      <td>1.000000</td>\n",
              "      <td>0.994584</td>\n",
              "    </tr>\n",
              "    <tr>\n",
              "      <th>smoothed (mm) annual and semi-annual signal removed</th>\n",
              "      <td>-0.198688</td>\n",
              "      <td>0.990111</td>\n",
              "      <td>0.990110</td>\n",
              "      <td>0.110930</td>\n",
              "      <td>0.118179</td>\n",
              "      <td>0.990525</td>\n",
              "      <td>-0.020512</td>\n",
              "      <td>0.993694</td>\n",
              "      <td>0.991863</td>\n",
              "      <td>-0.009340</td>\n",
              "      <td>0.994584</td>\n",
              "      <td>1.000000</td>\n",
              "    </tr>\n",
              "  </tbody>\n",
              "</table>\n",
              "</div>\n",
              "      <button class=\"colab-df-convert\" onclick=\"convertToInteractive('df-15903254-72ed-4155-abd1-f31388f59a95')\"\n",
              "              title=\"Convert this dataframe to an interactive table.\"\n",
              "              style=\"display:none;\">\n",
              "        \n",
              "  <svg xmlns=\"http://www.w3.org/2000/svg\" height=\"24px\"viewBox=\"0 0 24 24\"\n",
              "       width=\"24px\">\n",
              "    <path d=\"M0 0h24v24H0V0z\" fill=\"none\"/>\n",
              "    <path d=\"M18.56 5.44l.94 2.06.94-2.06 2.06-.94-2.06-.94-.94-2.06-.94 2.06-2.06.94zm-11 1L8.5 8.5l.94-2.06 2.06-.94-2.06-.94L8.5 2.5l-.94 2.06-2.06.94zm10 10l.94 2.06.94-2.06 2.06-.94-2.06-.94-.94-2.06-.94 2.06-2.06.94z\"/><path d=\"M17.41 7.96l-1.37-1.37c-.4-.4-.92-.59-1.43-.59-.52 0-1.04.2-1.43.59L10.3 9.45l-7.72 7.72c-.78.78-.78 2.05 0 2.83L4 21.41c.39.39.9.59 1.41.59.51 0 1.02-.2 1.41-.59l7.78-7.78 2.81-2.81c.8-.78.8-2.07 0-2.86zM5.41 20L4 18.59l7.72-7.72 1.47 1.35L5.41 20z\"/>\n",
              "  </svg>\n",
              "      </button>\n",
              "      \n",
              "  <style>\n",
              "    .colab-df-container {\n",
              "      display:flex;\n",
              "      flex-wrap:wrap;\n",
              "      gap: 12px;\n",
              "    }\n",
              "\n",
              "    .colab-df-convert {\n",
              "      background-color: #E8F0FE;\n",
              "      border: none;\n",
              "      border-radius: 50%;\n",
              "      cursor: pointer;\n",
              "      display: none;\n",
              "      fill: #1967D2;\n",
              "      height: 32px;\n",
              "      padding: 0 0 0 0;\n",
              "      width: 32px;\n",
              "    }\n",
              "\n",
              "    .colab-df-convert:hover {\n",
              "      background-color: #E2EBFA;\n",
              "      box-shadow: 0px 1px 2px rgba(60, 64, 67, 0.3), 0px 1px 3px 1px rgba(60, 64, 67, 0.15);\n",
              "      fill: #174EA6;\n",
              "    }\n",
              "\n",
              "    [theme=dark] .colab-df-convert {\n",
              "      background-color: #3B4455;\n",
              "      fill: #D2E3FC;\n",
              "    }\n",
              "\n",
              "    [theme=dark] .colab-df-convert:hover {\n",
              "      background-color: #434B5C;\n",
              "      box-shadow: 0px 1px 3px 1px rgba(0, 0, 0, 0.15);\n",
              "      filter: drop-shadow(0px 1px 2px rgba(0, 0, 0, 0.3));\n",
              "      fill: #FFFFFF;\n",
              "    }\n",
              "  </style>\n",
              "\n",
              "      <script>\n",
              "        const buttonEl =\n",
              "          document.querySelector('#df-15903254-72ed-4155-abd1-f31388f59a95 button.colab-df-convert');\n",
              "        buttonEl.style.display =\n",
              "          google.colab.kernel.accessAllowed ? 'block' : 'none';\n",
              "\n",
              "        async function convertToInteractive(key) {\n",
              "          const element = document.querySelector('#df-15903254-72ed-4155-abd1-f31388f59a95');\n",
              "          const dataTable =\n",
              "            await google.colab.kernel.invokeFunction('convertToInteractive',\n",
              "                                                     [key], {});\n",
              "          if (!dataTable) return;\n",
              "\n",
              "          const docLinkHtml = 'Like what you see? Visit the ' +\n",
              "            '<a target=\"_blank\" href=https://colab.research.google.com/notebooks/data_table.ipynb>data table notebook</a>'\n",
              "            + ' to learn more about interactive tables.';\n",
              "          element.innerHTML = '';\n",
              "          dataTable['output_type'] = 'display_data';\n",
              "          await google.colab.output.renderOutput(dataTable, element);\n",
              "          const docLink = document.createElement('div');\n",
              "          docLink.innerHTML = docLinkHtml;\n",
              "          element.appendChild(docLink);\n",
              "        }\n",
              "      </script>\n",
              "    </div>\n",
              "  </div>\n",
              "  "
            ]
          },
          "metadata": {},
          "execution_count": 12
        }
      ]
    },
    {
      "cell_type": "code",
      "source": [
        "#replace \"...\" with your code to make a figure here\n"
      ],
      "metadata": {
        "id": "00CKJlhi9CZ3"
      },
      "execution_count": null,
      "outputs": []
    },
    {
      "cell_type": "markdown",
      "source": [
        "Figure caption ..."
      ],
      "metadata": {
        "id": "m4xIz6FscBRz"
      }
    },
    {
      "cell_type": "markdown",
      "source": [
        "# Visualize the data : 15 points"
      ],
      "metadata": {
        "id": "rUs3vg3HFXN6"
      }
    },
    {
      "cell_type": "markdown",
      "source": [
        "\n",
        "Plot time series: make separate plots of the \"GMSL variation no GIA (mm)\", \"smoothed GMSL (mm)\", and \"GMSL variation (mm)\" against the year\n",
        "\n",
        "*HINT: make sure your plots have axes labels.*\n",
        "\n",
        "*HINT:  Figures without captions do not get points. Make sure you write a caption (as a text cell) for each plot describing what the plot shows and anything that you think is noticeable about it.*\n"
      ],
      "metadata": {
        "id": "Fg5QL5bhDB9q"
      }
    },
    {
      "cell_type": "code",
      "source": [
        "# replace ... with your code.\n",
        "..."
      ],
      "metadata": {
        "id": "jAELaO8QcP9R"
      },
      "execution_count": null,
      "outputs": []
    },
    {
      "cell_type": "markdown",
      "source": [
        "# **Data analysis 1:** **5 points**\n",
        "\n",
        "\n",
        "The column \"number of observations\" records the number of observations that went into every measurement (every row). What is the total number of observations used? what is the date (fractional year) with the most observations (5 points)"
      ],
      "metadata": {
        "id": "89D8vuq504U0"
      }
    },
    {
      "cell_type": "code",
      "source": [
        "#replace \"...\" with your code\n",
        "..."
      ],
      "metadata": {
        "id": "OXMCjXGgAzEQ"
      },
      "execution_count": null,
      "outputs": []
    },
    {
      "cell_type": "markdown",
      "source": [
        "# **Data analysis 2:** choose one task **10 points**:\n"
      ],
      "metadata": {
        "id": "EobLgEh_wzYS"
      }
    },
    {
      "cell_type": "code",
      "source": [
        "#replace \"...\" with your code to give the answer to which columns are correlated with smoothed GMSL (mm)\n"
      ],
      "metadata": {
        "id": "M9lmZTLBDNJX"
      },
      "execution_count": null,
      "outputs": []
    },
    {
      "cell_type": "markdown",
      "source": [
        "# data analysis 2a :\n",
        "choose two continents (at least) and test the hypothesis that the population size trends are the same. That is, treating the continent's population as a sample from the world population over time, test if the two ontinents' population distribution comes from the same parent population _KS test tests exactly this hypothesis!_. Please look at hint 4! Write in full English the interpretation of the KS test reaults : \"We can/cannot reject the null hypothesis that.....\"\n",
        "\n",
        "**10 points**:"
      ],
      "metadata": {
        "id": "ETP60UTHsoWE"
      }
    },
    {
      "cell_type": "code",
      "source": [
        "..."
      ],
      "metadata": {
        "id": "EQrF6qv5xE9B"
      },
      "execution_count": null,
      "outputs": []
    },
    {
      "cell_type": "markdown",
      "source": [
        "# data analysis 2b"
      ],
      "metadata": {
        "id": "vzmAN9O-FftB"
      }
    },
    {
      "cell_type": "markdown",
      "source": [
        "\n",
        "Make a model:\n",
        "choosing whichever method or function you prefer, fit at least two of the three variables you plotted in Task 7 with a **line fit** to time (years) (3 points for each variable).\n",
        "\n",
        "For each model show a measure of goodness of fit your choice: it could be the R2 for statsmodels, the score for SKlearn, or a function that you write  (2 points for each variable for which you do this).\n",
        "\n",
        "Answer the question and justify your answer: which is the best model? (2 points)\n",
        "\n"
      ],
      "metadata": {
        "id": "_Xe2qKbNDuKo"
      }
    },
    {
      "cell_type": "code",
      "source": [
        "# replace ... with your code.\n",
        "model1 = ..."
      ],
      "metadata": {
        "id": "3aUSrdrG7mFn"
      },
      "execution_count": null,
      "outputs": []
    },
    {
      "cell_type": "code",
      "source": [
        "# replace ... with your code.\n",
        "model2 = ..."
      ],
      "metadata": {
        "id": "4rvA82i--eLb"
      },
      "execution_count": null,
      "outputs": []
    },
    {
      "cell_type": "code",
      "source": [
        "# replace ... with your code.\n",
        "model3 = ..."
      ],
      "metadata": {
        "id": "vOcg4fH3-lZA"
      },
      "execution_count": null,
      "outputs": []
    },
    {
      "cell_type": "markdown",
      "source": [
        "The best model is ..... (YOUR ANSWER HERE)"
      ],
      "metadata": {
        "id": "4uzU_69HNijj"
      }
    }
  ]
}